{
 "cells": [
  {
   "cell_type": "markdown",
   "metadata": {},
   "source": [
    "1. Ask user to enter a string and check that it is made up only alphabets:"
   ]
  },
  {
   "cell_type": "code",
   "execution_count": 1,
   "metadata": {},
   "outputs": [],
   "source": [
    "input_word = input(\"Enter a string: \")\n",
    "if input_word.isalpha():\n",
    "    print(\"Valid string\")\n",
    "else:\n",
    "    print(\"Invalid string\")"
   ]
  },
  {
   "cell_type": "markdown",
   "metadata": {},
   "source": [
    "2. Now, make sure that the string is made up of both alphabets and numbers:\n",
    "\n",
    "TRY using isalnum() function and then entering only alhpabets in the string and see what happens."
   ]
  },
  {
   "cell_type": "code",
   "execution_count": null,
   "metadata": {},
   "outputs": [
    {
     "name": "stdout",
     "output_type": "stream",
     "text": [
      "Invalid username\n"
     ]
    }
   ],
   "source": [
    "input_word = input(\"Enter your username: \")\n",
    "alpha_flag = False\n",
    "number_flag = False\n",
    "alnum_flag = True\n",
    "\n",
    "for x in input_word:\n",
    "    if x.isdigit():\n",
    "        number_flag = True\n",
    "    elif x.isalpha():\n",
    "        alpha_flag = True\n",
    "    else:\n",
    "        alnum_flag = False\n",
    "\n",
    "if not (number_flag and alpha_flag and alnum_flag):\n",
    "    print(\"Invalid username\")\n",
    "else:\n",
    "    print(\"Valid username\")"
   ]
  },
  {
   "cell_type": "markdown",
   "metadata": {},
   "source": [
    "3. Now, make sure that the string is made up of both alphabets and at least one number:\n"
   ]
  },
  {
   "cell_type": "code",
   "execution_count": null,
   "metadata": {},
   "outputs": [
    {
     "name": "stdout",
     "output_type": "stream",
     "text": [
      "Invalid username\n"
     ]
    }
   ],
   "source": [
    "input_word = input(\"Enter your username: \")\n",
    "alpha_flag = False\n",
    "number_flag = False\n",
    "\n",
    "for x in input_word:\n",
    "    if x.isdigit():\n",
    "        number_flag = True\n",
    "    elif x.isalpha():\n",
    "        alpha_flag = True\n",
    "\n",
    "if alpha_flag and number_flag:\n",
    "    print(\"Valid username\")\n",
    "else:\n",
    "    print(\"Invalid username\")"
   ]
  },
  {
   "cell_type": "markdown",
   "metadata": {},
   "source": [
    "4. Now, make sure that the string is made up of both alphabets, at least one number, and at least one special character:"
   ]
  },
  {
   "cell_type": "code",
   "execution_count": null,
   "metadata": {},
   "outputs": [
    {
     "name": "stdout",
     "output_type": "stream",
     "text": [
      "Invalid username\n"
     ]
    }
   ],
   "source": [
    "input_word = input(\"Enter your username: \")\t\n",
    "\n",
    "alpha_flag =False \n",
    "number_flag = False\n",
    "#alnum_flag =True\n",
    "special_flag =False\t\n",
    "\n",
    "for x in input_word:\n",
    "    if x.isdigit():\t\n",
    "        number_flag =True\n",
    "    elif x.isalpha( ):\n",
    "        alpha_flag = True\t\n",
    "    else:\t\n",
    "        special_flag = True\t\n",
    "\n",
    "if not (alpha_flag and special_flag and number_flag):\n",
    "    print(\"Invalid username\" )\t\n",
    "else:\n",
    "    print(\"Vatid username\" )"
   ]
  },
  {
   "cell_type": "markdown",
   "metadata": {},
   "source": [
    "5. Now, modify the above code so that if the user enters an invalid string, the program should ask the user to enter another string again, and keep asking until a valid string has been entered."
   ]
  },
  {
   "cell_type": "code",
   "execution_count": null,
   "metadata": {},
   "outputs": [
    {
     "name": "stdout",
     "output_type": "stream",
     "text": [
      "Invalid username\n",
      "Invalid username\n",
      "Invalid username\n",
      "Invalid username\n"
     ]
    }
   ],
   "source": [
    "while True:\n",
    "    input_word = input(\"Enter your username: \")\n",
    "    alpha_flag = False\n",
    "    number_flag = False\n",
    "    special_char_flag = False\n",
    "\n",
    "    for x in input_word:\n",
    "        if x.isdigit():\n",
    "            number_flag = True\n",
    "        elif x.isalpha():\n",
    "            alpha_flag = True\n",
    "        else:\n",
    "            special_char_flag = True\n",
    "\n",
    "    if alpha_flag and number_flag and special_char_flag:\n",
    "        print(\"Valid username\")\n",
    "        break\n",
    "    else:\n",
    "        print(\"Invalid username\")\n",
    "    "
   ]
  }
 ],
 "metadata": {
  "kernelspec": {
   "display_name": "Python 3",
   "language": "python",
   "name": "python3"
  },
  "language_info": {
   "codemirror_mode": {
    "name": "ipython",
    "version": 3
   },
   "file_extension": ".py",
   "mimetype": "text/x-python",
   "name": "python",
   "nbconvert_exporter": "python",
   "pygments_lexer": "ipython3",
   "version": "3.11.7"
  }
 },
 "nbformat": 4,
 "nbformat_minor": 2
}
